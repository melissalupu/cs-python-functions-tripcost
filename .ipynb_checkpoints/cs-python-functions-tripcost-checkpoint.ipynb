{
 "cells": [
  {
   "cell_type": "markdown",
   "metadata": {},
   "source": [
    "## Write a program to calculate the trip costs.\n",
    "\n",
    "a) use appropriate variable, constant and function names.\n",
    "b) don't forget to put comments in the code.\n",
    "c) In comments for each function, do mention the purpose the function, the input parameters and the return value from the function\n"
   ]
  },
  {
   "cell_type": "code",
   "execution_count": null,
   "metadata": {},
   "outputs": [],
   "source": [
    "def hotelCost(nights):\n",
    "    choice = input(\"\"\"\n",
    "                   Choose from\n",
    "                   Holiday Inn £50 per night: A\n",
    "                   Hilton £90 per night : B\n",
    "                   Marriott £120 per night: C: \n",
    "                   \"\"\")\n",
    "    if choice.upper() == 'A': #.upper() is a built-in function which changes the users input into a capital letter\n",
    "        cost = 50 * nights\n",
    "    if choice.upper() == 'B':\n",
    "        cost = 90 * nights\n",
    "    if choice.upper() == 'C':\n",
    "        cost = 120 * nights\n",
    "    return cost\n",
    "\n",
    "\n",
    "def planeRideCost(city):\n",
    "    if city==\"Madrid\":\n",
    "        return 270\n",
    "    elif city==\"Paris\":\n",
    "        return 280\n",
    "    elif city==\"Berlin\":\n",
    "        return 220\n",
    "    elif city==\"Edinburgh\":\n",
    "        return 150\n",
    "\n",
    "def rentalCarCost(days):\n",
    "    cost = days * 40\n",
    "    if days > 3 and days < 7:\n",
    "        cost -= 20\n",
    "    if days >= 7:\n",
    "        cost -= 50\n",
    "    return cost\n",
    "\n",
    "def tripCost(city, night, days):\n",
    "    print(rentalCarCost(days)+ hotelCost(nights) + planeRideCost(city)) #the function tripCost uses the users inputs and then calls 3 others functions through the use of its parameters\n",
    "    \n",
    "nights= int(input(\"Enter nights:\"))\n",
    "city= input(\"Enter city:\")\n",
    "days= int(input(\"Enter days of car rental:\"))\n",
    "tripCost(city,nights,days)\n"
   ]
  }
 ],
 "metadata": {
  "kernelspec": {
   "display_name": "Python 3",
   "language": "python",
   "name": "python3"
  },
  "language_info": {
   "codemirror_mode": {
    "name": "ipython",
    "version": 3
   },
   "file_extension": ".py",
   "mimetype": "text/x-python",
   "name": "python",
   "nbconvert_exporter": "python",
   "pygments_lexer": "ipython3",
   "version": "3.6.8"
  }
 },
 "nbformat": 4,
 "nbformat_minor": 2
}
